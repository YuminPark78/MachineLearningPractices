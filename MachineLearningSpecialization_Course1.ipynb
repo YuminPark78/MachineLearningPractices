{
 "cells": [
  {
   "cell_type": "markdown",
   "id": "b31baa12",
   "metadata": {},
   "source": [
    "# Machine Learning Specialization Course 1 Practice"
   ]
  },
  {
   "cell_type": "markdown",
   "id": "69977539",
   "metadata": {},
   "source": [
    "This is my notebook for practicing skills gained through the Machine Learning Specialization offered by DeepLearning.AI and Stanford university through Coursera. I also intend to practice the features of jupyter notebook throughout the process."
   ]
  },
  {
   "cell_type": "code",
   "execution_count": null,
   "id": "a048f1be",
   "metadata": {},
   "outputs": [],
   "source": []
  }
 ],
 "metadata": {
  "kernelspec": {
   "display_name": "Python 3 (ipykernel)",
   "language": "python",
   "name": "python3"
  },
  "language_info": {
   "codemirror_mode": {
    "name": "ipython",
    "version": 3
   },
   "file_extension": ".py",
   "mimetype": "text/x-python",
   "name": "python",
   "nbconvert_exporter": "python",
   "pygments_lexer": "ipython3",
   "version": "3.11.5"
  }
 },
 "nbformat": 4,
 "nbformat_minor": 5
}
