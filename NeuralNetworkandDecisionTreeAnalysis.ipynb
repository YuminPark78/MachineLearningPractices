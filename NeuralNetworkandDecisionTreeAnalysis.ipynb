{
 "cells": [
  {
   "cell_type": "markdown",
   "id": "ca76e977",
   "metadata": {},
   "source": [
    "# Neural Network and Decision Tree Analysis\n",
    "\n",
    "I will be practicing supervised learning techniques gained from the machine learning course. While insurance.csv dataset is used throughout the process, it is to be noted that I do not intend to educe any meaningful outcome from the data. The data is solely used to implement the machine learning techniques. "
   ]
  },
  {
   "cell_type": "code",
   "execution_count": 8,
   "id": "685d9615",
   "metadata": {},
   "outputs": [],
   "source": [
    "import pandas as pd\n",
    "import numpy as np\n",
    "import math"
   ]
  },
  {
   "cell_type": "code",
   "execution_count": 10,
   "id": "b3a69393",
   "metadata": {},
   "outputs": [
    {
     "data": {
      "text/plain": [
       "<bound method NDFrame.head of       age     sex     bmi  children smoker     region      charges\n",
       "0      19  female  27.900         0    yes  southwest  16884.92400\n",
       "1      18    male  33.770         1     no  southeast   1725.55230\n",
       "2      28    male  33.000         3     no  southeast   4449.46200\n",
       "3      33    male  22.705         0     no  northwest  21984.47061\n",
       "4      32    male  28.880         0     no  northwest   3866.85520\n",
       "...   ...     ...     ...       ...    ...        ...          ...\n",
       "1333   50    male  30.970         3     no  northwest  10600.54830\n",
       "1334   18  female  31.920         0     no  northeast   2205.98080\n",
       "1335   18  female  36.850         0     no  southeast   1629.83350\n",
       "1336   21  female  25.800         0     no  southwest   2007.94500\n",
       "1337   61  female  29.070         0    yes  northwest  29141.36030\n",
       "\n",
       "[1338 rows x 7 columns]>"
      ]
     },
     "execution_count": 10,
     "metadata": {},
     "output_type": "execute_result"
    }
   ],
   "source": [
    "df = pd.read_csv(\"Datasets/insurance.csv\")\n",
    "df.head"
   ]
  },
  {
   "cell_type": "markdown",
   "id": "9972e572",
   "metadata": {},
   "source": [
    "The dataset consists of 1338 examples with 7 columns. The columns are:\n",
    "\n",
    "| Features     | Data     |\n",
    "| ----------- | ----------- |\n",
    "| age    | 18-64   |\n",
    "| sex    | female/male    |\n",
    "| bmi    | 16.0-53.1   |\n",
    "| children    | 0-5    |\n",
    "| smoker    | yes/no    |\n",
    "| region    | SE/SW/NE/NW    |\n",
    "| charges    | 1120-63800    |\n",
    "\n",
    "# Neural Network Algorithm\n",
    "\n",
    "Neural network is the algorithm that try to mimic the brain. Its composed of the input layer, hidden layer(s), and the output layer. It's to be noted that the input layer has to be composed of only numerical data. We will go through the process to turn non-numeric data to numerical data, applying one hot encoding where necessary. One-hot encoding refers to splitting up categorical data into the number of categories, making each category a binary data. "
   ]
  },
  {
   "cell_type": "code",
   "execution_count": 12,
   "id": "6dba75b1",
   "metadata": {},
   "outputs": [
    {
     "data": {
      "text/plain": [
       "<bound method NDFrame.head of       age     bmi  children      charges  sex_male  smoker_yes  \\\n",
       "0      19  27.900         0  16884.92400         0           1   \n",
       "1      18  33.770         1   1725.55230         1           0   \n",
       "2      28  33.000         3   4449.46200         1           0   \n",
       "3      33  22.705         0  21984.47061         1           0   \n",
       "4      32  28.880         0   3866.85520         1           0   \n",
       "...   ...     ...       ...          ...       ...         ...   \n",
       "1333   50  30.970         3  10600.54830         1           0   \n",
       "1334   18  31.920         0   2205.98080         0           0   \n",
       "1335   18  36.850         0   1629.83350         0           0   \n",
       "1336   21  25.800         0   2007.94500         0           0   \n",
       "1337   61  29.070         0  29141.36030         0           1   \n",
       "\n",
       "      region_northeast  region_northwest  region_southeast  region_southwest  \n",
       "0                    0                 0                 0                 1  \n",
       "1                    0                 0                 1                 0  \n",
       "2                    0                 0                 1                 0  \n",
       "3                    0                 1                 0                 0  \n",
       "4                    0                 1                 0                 0  \n",
       "...                ...               ...               ...               ...  \n",
       "1333                 0                 1                 0                 0  \n",
       "1334                 1                 0                 0                 0  \n",
       "1335                 0                 0                 1                 0  \n",
       "1336                 0                 0                 0                 1  \n",
       "1337                 0                 1                 0                 0  \n",
       "\n",
       "[1338 rows x 10 columns]>"
      ]
     },
     "execution_count": 12,
     "metadata": {},
     "output_type": "execute_result"
    }
   ],
   "source": [
    "#The following code convers 'male' to 1 'female' to 0\n",
    "df_encoded = pd.get_dummies(df, columns=['sex'], dtype=int, drop_first=True)\n",
    "\n",
    "#The following code convers 'yes' to 1 'no' to 0\n",
    "df_encoded = pd.get_dummies(df_encoded, columns=['smoker'], dtype=int, drop_first=True)\n",
    "\n",
    "#The following code implements one-hot encoding on 'region' feature\n",
    "df_encoded = pd.get_dummies(df_encoded, columns=['region',], dtype=int)\n",
    "df_encoded.head"
   ]
  },
  {
   "cell_type": "markdown",
   "id": "cadcd835",
   "metadata": {},
   "source": [
    "I will implement the neural network algorithm to calculate the probability of a specific person being a smoker. Hence I need to drop the column and store in a different array. "
   ]
  },
  {
   "cell_type": "code",
   "execution_count": 14,
   "id": "6dca335c",
   "metadata": {},
   "outputs": [
    {
     "name": "stdout",
     "output_type": "stream",
     "text": [
      "(1338,)\n"
     ]
    }
   ],
   "source": [
    "smoker = df_encoded['smoker_yes'].to_numpy()\n",
    "print(smoker.shape)"
   ]
  },
  {
   "cell_type": "markdown",
   "id": "c9c846a9",
   "metadata": {},
   "source": [
    "Before proceeding any further, I will start by scaling every feature by z-score normalization. "
   ]
  },
  {
   "cell_type": "code",
   "execution_count": 21,
   "id": "5f156d53",
   "metadata": {},
   "outputs": [
    {
     "data": {
      "text/plain": [
       "<bound method NDFrame.head of            age       bmi  children   charges  sex_male  smoker_yes  \\\n",
       "0    -1.438227 -0.453151 -0.908274  0.298472 -1.010141    1.969850   \n",
       "1    -1.509401  0.509431 -0.078738 -0.953333  0.989221   -0.507273   \n",
       "2    -0.797655  0.383164  1.580335 -0.728402  0.989221   -0.507273   \n",
       "3    -0.441782 -1.305043 -0.908274  0.719574  0.989221   -0.507273   \n",
       "4    -0.512957 -0.292447 -0.908274 -0.776512  0.989221   -0.507273   \n",
       "...        ...       ...       ...       ...       ...         ...   \n",
       "1333  0.768185  0.050278  1.580335 -0.220468  0.989221   -0.507273   \n",
       "1334 -1.509401  0.206062 -0.908274 -0.913661 -1.010141   -0.507273   \n",
       "1335 -1.509401  1.014499 -0.908274 -0.961237 -1.010141   -0.507273   \n",
       "1336 -1.295877 -0.797515 -0.908274 -0.930014 -1.010141   -0.507273   \n",
       "1337  1.551106 -0.261290 -0.908274  1.310563 -1.010141    1.969850   \n",
       "\n",
       "      region_northeast  region_northwest  region_southeast  region_southwest  \n",
       "0            -0.565056         -0.566206         -0.611095          1.764821  \n",
       "1            -0.565056         -0.566206          1.635183         -0.566206  \n",
       "2            -0.565056         -0.566206          1.635183         -0.566206  \n",
       "3            -0.565056          1.764821         -0.611095         -0.566206  \n",
       "4            -0.565056          1.764821         -0.611095         -0.566206  \n",
       "...                ...               ...               ...               ...  \n",
       "1333         -0.565056          1.764821         -0.611095         -0.566206  \n",
       "1334          1.768415         -0.566206         -0.611095         -0.566206  \n",
       "1335         -0.565056         -0.566206          1.635183         -0.566206  \n",
       "1336         -0.565056         -0.566206         -0.611095          1.764821  \n",
       "1337         -0.565056          1.764821         -0.611095         -0.566206  \n",
       "\n",
       "[1338 rows x 10 columns]>"
      ]
     },
     "execution_count": 21,
     "metadata": {},
     "output_type": "execute_result"
    }
   ],
   "source": [
    "#The code below implements z-score normalization on all the features of df_encoded\n",
    "df_z_scaled = df_encoded.copy()\n",
    "\n",
    "for column in df_z_scaled.columns:\n",
    "    df_z_scaled[column] = (df_z_scaled[column]-df_z_scaled[column].mean()) / df_z_scaled[column].std()\n",
    "    \n",
    "df_z_scaled.head"
   ]
  },
  {
   "cell_type": "code",
   "execution_count": 24,
   "id": "6ec9e320",
   "metadata": {},
   "outputs": [
    {
     "data": {
      "text/plain": [
       "(1338, 9)"
      ]
     },
     "execution_count": 24,
     "metadata": {},
     "output_type": "execute_result"
    }
   ],
   "source": [
    "#creating nparray of all necessary features\n",
    "x_train = df_z_scaled[['age', 'bmi', 'children', 'charges', 'sex_male', 'region_northeast', 'region_northwest', \n",
    "                      'region_southeast', 'region_southwest']].to_numpy()\n",
    "x_train.shape"
   ]
  },
  {
   "cell_type": "code",
   "execution_count": 28,
   "id": "3bcebada",
   "metadata": {},
   "outputs": [
    {
     "ename": "ModuleNotFoundError",
     "evalue": "No module named 'tensorflow'",
     "output_type": "error",
     "traceback": [
      "\u001b[0;31m---------------------------------------------------------------------------\u001b[0m",
      "\u001b[0;31mModuleNotFoundError\u001b[0m                       Traceback (most recent call last)",
      "Cell \u001b[0;32mIn[28], line 2\u001b[0m\n\u001b[1;32m      1\u001b[0m \u001b[38;5;66;03m# importing packages necessary to implement neural network\u001b[39;00m\n\u001b[0;32m----> 2\u001b[0m \u001b[38;5;28;01mimport\u001b[39;00m \u001b[38;5;21;01mtensorflow\u001b[39;00m \u001b[38;5;28;01mas\u001b[39;00m \u001b[38;5;21;01mtf\u001b[39;00m\n\u001b[1;32m      3\u001b[0m \u001b[38;5;28;01mfrom\u001b[39;00m \u001b[38;5;21;01mtensorflow\u001b[39;00m\u001b[38;5;21;01m.\u001b[39;00m\u001b[38;5;21;01mkeras\u001b[39;00m\u001b[38;5;21;01m.\u001b[39;00m\u001b[38;5;21;01mlayers\u001b[39;00m \u001b[38;5;28;01mimport\u001b[39;00m Dense, Input\n\u001b[1;32m      4\u001b[0m \u001b[38;5;28;01mfrom\u001b[39;00m \u001b[38;5;21;01mtensorflow\u001b[39;00m\u001b[38;5;21;01m.\u001b[39;00m\u001b[38;5;21;01mkeras\u001b[39;00m \u001b[38;5;28;01mimport\u001b[39;00m Sequential\n",
      "\u001b[0;31mModuleNotFoundError\u001b[0m: No module named 'tensorflow'"
     ]
    }
   ],
   "source": [
    "# importing packages necessary to implement neural network\n",
    "import tensorflow as tf\n",
    "from tensorflow.keras.layers import Dense, Input\n",
    "from tensorflow.keras import Sequential\n",
    "from tensorflow.keras.losses import MeanSquaredError, BinaryCrossentropy\n",
    "from tensorflow.keras.activations import sigmoid"
   ]
  },
  {
   "cell_type": "code",
   "execution_count": null,
   "id": "55a87128",
   "metadata": {},
   "outputs": [],
   "source": []
  }
 ],
 "metadata": {
  "kernelspec": {
   "display_name": "Python 3 (ipykernel)",
   "language": "python",
   "name": "python3"
  },
  "language_info": {
   "codemirror_mode": {
    "name": "ipython",
    "version": 3
   },
   "file_extension": ".py",
   "mimetype": "text/x-python",
   "name": "python",
   "nbconvert_exporter": "python",
   "pygments_lexer": "ipython3",
   "version": "3.11.5"
  }
 },
 "nbformat": 4,
 "nbformat_minor": 5
}
